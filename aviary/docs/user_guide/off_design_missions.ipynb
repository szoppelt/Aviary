{
 "cells": [
  {
   "cell_type": "code",
   "execution_count": null,
   "metadata": {
    "tags": [
     "remove-cell"
    ]
   },
   "outputs": [],
   "source": [
    "# Testing Cell\n",
    "from aviary.api import Settings\n",
    "import aviary.api as av\n",
    "from aviary.utils.doctape import get_variable_name, glue_variable\n",
    "\n",
    "str_problem_type = Settings.PROBLEM_TYPE\n",
    "str_sizing = av.ProblemType.SIZING.value\n",
    "str_alternate = av.ProblemType.ALTERNATE.value\n",
    "str_fallout = av.ProblemType.FALLOUT.value\n",
    "\n",
    "str_alternate_snippet = f'```\\n{str_problem_type}, {str_alternate}\\n```'\n",
    "glue_variable('alternate_snippet', str_alternate_snippet, md_code=False)\n",
    "\n",
    "fallout_snippet = f'```\\n{str_problem_type}, {str_fallout}\\n```'\n",
    "glue_variable('fallout_snippet', fallout_snippet, md_code=False)\n",
    "\n",
    "glue_variable(av.EquationsOfMotion.HEIGHT_ENERGY.value, md_code=False)\n",
    "glue_variable(av.EquationsOfMotion.TWO_DEGREES_OF_FREEDOM.value, md_code=False)\n",
    "\n",
    "AnalysisScheme = av.AnalysisScheme\n",
    "str_collocation = get_variable_name(AnalysisScheme.COLLOCATION)\n",
    "str_collocation = str_collocation.split('.')[1].lower()\n",
    "glue_variable(str_collocation, md_code=False)\n",
    "str_shooting = get_variable_name(AnalysisScheme.SHOOTING)\n",
    "str_shooting = str_shooting.split('.')[1].lower()\n",
    "glue_variable(str_shooting, md_code=False)\n"
   ]
  },
  {
   "cell_type": "markdown",
   "metadata": {},
   "source": [
    "# Off-Design Missions\n",
    "\n",
    "## Overview\n",
    "\n",
    "Off-design missions are enabled for the following mission types:\n",
    "\n",
    "* {glue:md}`height_energy` ({glue:md}`collocation`)    (completed)\n",
    "* {glue:md}`2DOF` ({glue:md}`collocation`) (complete)\n",
    "* {glue:md}`height_energy` ({glue:md}`shooting`)    (future work)\n",
    "* {glue:md}`2DOF` ({glue:md}`shooting`)    (future work)\n",
    "\n",
    "An off-design mission can be created either by directly entering the parameters of the sized aircraft or by using the built-in functionality to run an off-design in the same script as the sizing mission.\n",
    "There are currently two types of off-design missions supported in Aviary; alternate and fallout.\n",
    "For an alternate mission, the target range of the mission and the payload mass are specified and the fuel mass required is solved for.\n",
    "Fallout missions meanwhile take the payload and fuel masses as inputs and determine the range of the aircraft.\n",
    "To create a simple off-design mission, take your input deck and add the line\n",
    "\n",
    "```{glue:md} fallout_snippet\n",
    ":format: myst\n",
    "```\n",
    "or\n",
    "```{glue:md} alternate_snippet\n",
    ":format: myst\n",
    "```\n",
    "\n",
    "```{note}\n",
    "You may need to revise some of the values in your input deck for the off-design mission.\n",
    "Since the aircraft is not re-designed, it is assumed that provided inputs constitute a valid aircraft.\n",
    "```\n",
    "\n",
    "From there, the mission may be run as before."
   ]
  },
  {
   "cell_type": "code",
   "execution_count": null,
   "metadata": {},
   "outputs": [],
   "source": [
    "# Testing Cell\n",
    "import aviary.api as av\n",
    "from aviary.utils.doctape import glue_variable\n",
    "\n",
    "file_path = av.get_path('examples/run_off_design_example.py').relative_to(av.top_dir.parent)\n",
    "glue_variable(file_path, md_code=True)"
   ]
  },
  {
   "cell_type": "markdown",
   "metadata": {},
   "source": [
    "You may also run multiple off-design missions in the same script used to solve the design mission.\n",
    "An examples of this is shown in {glue:md}`aviary/examples/run_off_design_example.py`."
   ]
  },
  {
   "cell_type": "code",
   "execution_count": null,
   "metadata": {
    "tags": [
     "remove-cell"
    ]
   },
   "outputs": [],
   "source": [
    "# Testing Cell\n",
    "from aviary.utils.doctape import check_contains\n",
    "import aviary.api as av\n",
    "import os\n",
    "\n",
    "# make sure run_off_design_example.py exists in aviary/examples folder\n",
    "off_design_examples = av.get_path(os.path.join('examples'))\n",
    "check_contains(\n",
    "    ('run_off_design_example.py'),\n",
    "    os.listdir(off_design_examples),\n",
    "    error_string=\"{var} not in \"+str(off_design_examples),\n",
    "    error_type=FileNotFoundError)"
   ]
  }
 ],
 "metadata": {
  "kernelspec": {
   "display_name": "av1",
   "language": "python",
   "name": "python3"
  },
  "language_info": {
   "codemirror_mode": {
    "name": "ipython",
    "version": 3
   },
   "file_extension": ".py",
   "mimetype": "text/x-python",
   "name": "python",
   "nbconvert_exporter": "python",
   "pygments_lexer": "ipython3",
   "version": "3.9.18"
  }
 },
 "nbformat": 4,
 "nbformat_minor": 2
}
